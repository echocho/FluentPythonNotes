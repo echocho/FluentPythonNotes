{
 "cells": [
  {
   "cell_type": "markdown",
   "metadata": {},
   "source": [
    "## the ABC langauge \n",
    "a 10-year research project to design a programming environment for beginners.\n",
    "\n",
    "## overview of built-in sequences\n",
    "There are two ways of grouping sequence types: by **flat/container sequence** or **mutability**\n",
    "1. Container sequences (list, tuple, collections.deque) can hold items of different types\n",
    "2. Flat sequences (str, bytes, bytearray, memoryview, array.array) hold items of one type\n",
    "3. mutable sequence (list, bytearray, array.array, collections.deque, memoryview) \n",
    "4. immutable sequence (typle, str, bytes)\n",
    "\n",
    "## List comprehensions and generator expressions\n",
    "1. listcomps\n",
    "2. genexps\n",
    "3. listcomps do everything the *map* and *filter* functions do, withouth the contortions of the functionally challenged python lambda\n",
    "\n",
    "## Tuples are inmutable lists and more\n",
    "1. Tuples can also be used as records in which case sorting the tuple would destroy the information because the meaning of each data item is given by its positionin the tuple\n",
    "```python3\n",
    "city, year, pop, chg, area = ('Tokyp', 2003, 32450, 0.66, 8014)\n",
    "```\n",
    "2. Tuple unpacking works with any iterable object. They only requirement is that the iterable yields exactly one item per variable in the receiving tuple, unless a * is used to capture excess items\n",
    "3. Tuple unpacking enables functions to return multiple values in a way that is convenient to the caller\n",
    "```python3\n",
    "dimod(20,8) #(2,4)\n",
    "t = (20, 8)\n",
    "divmod(*t) #(2,4)\n",
    "quotient, remainder = divmod(*t) \n",
    "quotient, remainder # (2,4)\n",
    "```\n",
    "\n",
    "## Slicing\n",
    "1. To evaluate the expression seq[start:stop:step], Python calls seq.__getitem__(slice(start,stop,step))\n",
    "\n",
    "## Lists\n",
    "Compare the following two ways of building lists of lists\n",
    "```python3\n",
    "board = [['_'] * 3 for i in range(3)]\n",
    "board #[['_', '_', '_'], ['_', '_', '_'], ['_', '_', '_']]\n",
    "board[1][2] = 'X'\n",
    "board #[['_', '_', '_'], ['_', '_', 'X'], ['_', '_', '_']]\n",
    "```\n",
    "```python3\n",
    "board2 = [['_'] * 3] * 3\n",
    "board2 #[['_', '_', '_'], ['_', '_', '_'], ['_', '_', '_']]\n",
    "board2[1][2] = 'O'\n",
    "board2 #[['_', '_', 'O'], ['_', '_', 'O'], ['_', '_', 'O']]\n",
    "```"
   ]
  },
  {
   "cell_type": "markdown",
   "metadata": {},
   "source": [
    "## Augmented Assignment with Sequences\n",
    "__iadd__ in-place addition\n",
    "1. putting mutable items in tuples is not a good idea\n",
    "2. augmented assignment is not an atomic operation\n",
    "3. inspecting Python bytecode is not too difficult, and is often helpful to see what is going on under the hood\n",
    "\n",
    "## Managing ordered sequences with bisect\n",
    "bisect(haystack, needle) does a binary search for needle in haystack--which must be a sorted sequence--to locate the position where needle can be inserted while maintaining haystack in ascending order\n",
    "\n",
    "## When a list is not he answer\n",
    "1. an **array** does not actually hold full-fledged float objects, but only the packed bytes representing their machine values - just like an array in the C language\n",
    "2. If the list will only contain numbers, an **array.array** is more efficient than a list: ti supports all mutable squence operations (including .pop, .insert, and .extend), and additional methods for fast loading and saving such as .frombytes and .tofile\n",
    "3. **memoryview** class is a shared-memory sequence type that lets you handle slices of arrays without copying bytes\n",
    "4. the class **collections.deque** is a thread-safe double-ended queue designed for fast inserting and removing from both ends\n",
    "5. a **deque** can be bounded-i.e., created with a maximum length-and then, when it is full, it discards items from the opposite end when you append new ones\n",
    "6. removing items from the middle of a deque is not as fast\n",
    "7. the *append* and *popleft* operations are atomic, so deque is safe to use as a LIFO queue in multithreaded applications without the need for using locks\n",
    "\n",
    "## Other Python standard library packages implement queues\n",
    "- queue\n",
    "- multiprocessing\n",
    "- asyncio\n",
    "- heapq"
   ]
  }
 ],
 "metadata": {
  "kernelspec": {
   "display_name": "Python 3",
   "language": "python",
   "name": "python3"
  },
  "language_info": {
   "codemirror_mode": {
    "name": "ipython",
    "version": 3
   },
   "file_extension": ".py",
   "mimetype": "text/x-python",
   "name": "python",
   "nbconvert_exporter": "python",
   "pygments_lexer": "ipython3",
   "version": "3.7.2"
  }
 },
 "nbformat": 4,
 "nbformat_minor": 2
}
