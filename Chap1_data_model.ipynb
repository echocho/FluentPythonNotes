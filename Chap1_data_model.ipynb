{
 "cells": [
  {
   "cell_type": "markdown",
   "metadata": {},
   "source": [
    "## Dunder Methods\n",
    "\\__x__\n",
    "\n",
    "## __getitem__ \n",
    "1. supports slicing\n",
    "2. supports iteration\n",
    "\n",
    "## How special methods are used\n",
    "1. they are meant to be called by the Python interpreter, not us (except __init__)\n",
    "2. \"for built-in types like list, str, bytearray, etc, the inteperater takes a short cut: the CPython implementation of len() returns the value of the ob_size filed in the PyVarObject C struct that represents any variable-sized built-in object in memory. This is faster than calling a method\" (p8)\n",
    "3. often the special method call is implicit. For example, for i in x causes the inocatin of iter(x), which in turn call x.__iter__() if it exists\n",
    "4. if you need to invoke a special method, better to cal the related built-in function. Faster and safer and better.\n",
    "\n",
    "## Built-ins\n",
    "1. random.choice\n",
    "2. collections.namedtuple\n",
    "\n",
    "## Boolean value of a custom type\n",
    "1. \"By default, instances of user-defined classes are considered truthy, unless either __bool__ or __len__ is implemented. Basically, bool(x) calls x.__bool__() and uses the result. if __bool__ is not implemented, Python tries to invoke x.__len__(), and if that returns 0, bool returns False. Otherwise True.\" (p12)\n",
    "\n",
    "## Why len is not a method\n",
    "1. Getting the number of items in a collection is a common operation and must work efficiently for such basic and diverse types as str, list, memoryview, etc.\n",
    "2. len is not called as a method because it gets special treatment as part of the Python data model, just like abs\n"
   ]
  },
  {
   "cell_type": "markdown",
   "metadata": {},
   "source": [
    "## Resources\n",
    "1. https://docs.python.org/3/reference/datamodel.html\n",
    "2. Book: Python in a Nutshell"
   ]
  }
 ],
 "metadata": {
  "kernelspec": {
   "display_name": "Python 3",
   "language": "python",
   "name": "python3"
  },
  "language_info": {
   "codemirror_mode": {
    "name": "ipython",
    "version": 3
   },
   "file_extension": ".py",
   "mimetype": "text/x-python",
   "name": "python",
   "nbconvert_exporter": "python",
   "pygments_lexer": "ipython3",
   "version": "3.7.2"
  }
 },
 "nbformat": 4,
 "nbformat_minor": 2
}
